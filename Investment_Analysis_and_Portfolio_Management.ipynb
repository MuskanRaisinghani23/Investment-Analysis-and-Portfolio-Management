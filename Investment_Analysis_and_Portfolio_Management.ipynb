{
  "cells": [
    {
      "cell_type": "markdown",
      "metadata": {
        "id": "NXWPKvty1Ef8"
      },
      "source": [
        "#Installations and imports"
      ]
    },
    {
      "cell_type": "code",
      "execution_count": null,
      "metadata": {
        "id": "M_2P8RH0ERVX",
        "colab": {
          "base_uri": "https://localhost:8080/"
        },
        "outputId": "c628f4d0-cf08-4552-e614-64abe3d1159b"
      },
      "outputs": [
        {
          "output_type": "stream",
          "name": "stdout",
          "text": [
            "Requirement already satisfied: yfinance in /usr/local/lib/python3.10/dist-packages (0.2.22)\n",
            "Requirement already satisfied: pandas>=1.3.0 in /usr/local/lib/python3.10/dist-packages (from yfinance) (1.5.3)\n",
            "Requirement already satisfied: numpy>=1.16.5 in /usr/local/lib/python3.10/dist-packages (from yfinance) (1.22.4)\n",
            "Requirement already satisfied: requests>=2.26 in /usr/local/lib/python3.10/dist-packages (from yfinance) (2.27.1)\n",
            "Requirement already satisfied: multitasking>=0.0.7 in /usr/local/lib/python3.10/dist-packages (from yfinance) (0.0.11)\n",
            "Requirement already satisfied: lxml>=4.9.1 in /usr/local/lib/python3.10/dist-packages (from yfinance) (4.9.3)\n",
            "Requirement already satisfied: appdirs>=1.4.4 in /usr/local/lib/python3.10/dist-packages (from yfinance) (1.4.4)\n",
            "Requirement already satisfied: pytz>=2022.5 in /usr/local/lib/python3.10/dist-packages (from yfinance) (2022.7.1)\n",
            "Requirement already satisfied: frozendict>=2.3.4 in /usr/local/lib/python3.10/dist-packages (from yfinance) (2.3.8)\n",
            "Requirement already satisfied: beautifulsoup4>=4.11.1 in /usr/local/lib/python3.10/dist-packages (from yfinance) (4.11.2)\n",
            "Requirement already satisfied: html5lib>=1.1 in /usr/local/lib/python3.10/dist-packages (from yfinance) (1.1)\n",
            "Requirement already satisfied: soupsieve>1.2 in /usr/local/lib/python3.10/dist-packages (from beautifulsoup4>=4.11.1->yfinance) (2.4.1)\n",
            "Requirement already satisfied: six>=1.9 in /usr/local/lib/python3.10/dist-packages (from html5lib>=1.1->yfinance) (1.16.0)\n",
            "Requirement already satisfied: webencodings in /usr/local/lib/python3.10/dist-packages (from html5lib>=1.1->yfinance) (0.5.1)\n",
            "Requirement already satisfied: python-dateutil>=2.8.1 in /usr/local/lib/python3.10/dist-packages (from pandas>=1.3.0->yfinance) (2.8.2)\n",
            "Requirement already satisfied: urllib3<1.27,>=1.21.1 in /usr/local/lib/python3.10/dist-packages (from requests>=2.26->yfinance) (1.26.16)\n",
            "Requirement already satisfied: certifi>=2017.4.17 in /usr/local/lib/python3.10/dist-packages (from requests>=2.26->yfinance) (2023.5.7)\n",
            "Requirement already satisfied: charset-normalizer~=2.0.0 in /usr/local/lib/python3.10/dist-packages (from requests>=2.26->yfinance) (2.0.12)\n",
            "Requirement already satisfied: idna<4,>=2.5 in /usr/local/lib/python3.10/dist-packages (from requests>=2.26->yfinance) (3.4)\n"
          ]
        }
      ],
      "source": [
        "!pip install yfinance"
      ]
    },
    {
      "cell_type": "code",
      "source": [
        "!pip install plotly"
      ],
      "metadata": {
        "id": "ZBdsagbHWOfX",
        "colab": {
          "base_uri": "https://localhost:8080/"
        },
        "outputId": "91f9cd4f-0bea-4474-db86-edf67ba5b3c1"
      },
      "execution_count": null,
      "outputs": [
        {
          "output_type": "stream",
          "name": "stdout",
          "text": [
            "Requirement already satisfied: plotly in /usr/local/lib/python3.10/dist-packages (5.13.1)\n",
            "Requirement already satisfied: tenacity>=6.2.0 in /usr/local/lib/python3.10/dist-packages (from plotly) (8.2.2)\n"
          ]
        }
      ]
    },
    {
      "cell_type": "code",
      "execution_count": null,
      "metadata": {
        "id": "Mcet1wod7pJu"
      },
      "outputs": [],
      "source": [
        "import pandas as pd\n",
        "import numpy as np\n",
        "from scipy.optimize import minimize\n",
        "import datetime\n",
        "import yfinance as yf\n",
        "import plotly.express as plt"
      ]
    },
    {
      "cell_type": "markdown",
      "metadata": {
        "id": "UjusW6Iw1I4K"
      },
      "source": [
        "# Code"
      ]
    },
    {
      "cell_type": "markdown",
      "metadata": {
        "id": "dskNv1kGNBTU"
      },
      "source": [
        "## Extracting data for Portfolio stocks - 5 year"
      ]
    },
    {
      "cell_type": "code",
      "execution_count": null,
      "metadata": {
        "id": "fPe-2GOODx9A"
      },
      "outputs": [],
      "source": [
        "# Preparing data\n",
        "stocks_dict = {'DEEPAKFERT.NS':14797.5, 'HDFCBANK.NS' : 83127, 'SBIN.NS':16023, 'KEI.NS':0, 'ICICIBANK.NS':19186, 'CROMPTON.NS':20062,\n",
        "               'ITC.NS':12663, 'POLYPLEX.NS':20184, 'VBL.NS':0, 'AEGISCHEM.NS':0, 'CGPOWER.NS':0,\n",
        "               'KEC.NS':0, 'BALKRISIND.NS':0, 'AMBUJACEM.NS':0, 'DMART.NS':0, 'UPL.NS':0, 'IPCALAB.NS':0, 'NHPC.NS':0}\n",
        "end = datetime.date.today()\n",
        "start = end - datetime.timedelta(days = 5*365)\n",
        "\n",
        "stocks_df=pd.DataFrame(list(stocks_dict.items()), columns=['TICKER','AMOUNT_INVESTED'])\n",
        "stocks_df['PROPORTION']=stocks_df['AMOUNT_INVESTED']/stocks_df['AMOUNT_INVESTED'].sum()"
      ]
    },
    {
      "cell_type": "markdown",
      "source": [
        "## Building dataframe\n"
      ],
      "metadata": {
        "id": "WzWpCuE1S-a_"
      }
    },
    {
      "cell_type": "code",
      "source": [
        "stocks_df.sort_values(by='AMOUNT_INVESTED', ascending=False, inplace=True)\n",
        "stocks_list=stocks_df['TICKER'].tolist()"
      ],
      "metadata": {
        "id": "Ea-nzsqzGO3P"
      },
      "execution_count": null,
      "outputs": []
    },
    {
      "cell_type": "code",
      "source": [
        "# Extracting data\n",
        "data = yf.download(stocks_list, start=start, end=end, group_by='ticker')"
      ],
      "metadata": {
        "colab": {
          "base_uri": "https://localhost:8080/"
        },
        "id": "IVfPL0vUGH1_",
        "outputId": "169025f3-6638-4894-8994-048a400b68ca"
      },
      "execution_count": null,
      "outputs": [
        {
          "output_type": "stream",
          "name": "stdout",
          "text": [
            "[*********************100%***********************]  18 of 18 completed\n"
          ]
        }
      ]
    },
    {
      "cell_type": "code",
      "execution_count": null,
      "metadata": {
        "id": "s00C1wU4I-2b"
      },
      "outputs": [],
      "source": [
        "# Filtering dataframe based on single column - Adj Close\n",
        "filter_list = []\n",
        "for stock in stocks_list:\n",
        "  filter_list.append((stock,'Adj Close'))\n",
        "filtered_data = data.filter(filter_list)"
      ]
    },
    {
      "cell_type": "code",
      "source": [
        "filtered_data.shape[0]\n",
        "# filtered_data.head(5)"
      ],
      "metadata": {
        "colab": {
          "base_uri": "https://localhost:8080/"
        },
        "id": "cYxdtexkiEPd",
        "outputId": "081acffb-0d30-49cc-fbe1-67ea59a845fd"
      },
      "execution_count": null,
      "outputs": [
        {
          "output_type": "execute_result",
          "data": {
            "text/plain": [
              "1231"
            ]
          },
          "metadata": {},
          "execution_count": 102
        }
      ]
    },
    {
      "cell_type": "markdown",
      "metadata": {
        "id": "Wg7lR0J2NKFk"
      },
      "source": [
        "## Calculating returns & risk for each stock"
      ]
    },
    {
      "cell_type": "code",
      "execution_count": null,
      "metadata": {
        "id": "gDbnfVUnKLxa"
      },
      "outputs": [],
      "source": [
        "returns_df = filtered_data.pct_change(1).dropna()"
      ]
    },
    {
      "cell_type": "code",
      "source": [
        "returns_df.shape[0]"
      ],
      "metadata": {
        "colab": {
          "base_uri": "https://localhost:8080/"
        },
        "id": "5HSEC21CplKe",
        "outputId": "6d58bf0e-35bd-4cc4-8a53-6f489cd83d44"
      },
      "execution_count": null,
      "outputs": [
        {
          "output_type": "execute_result",
          "data": {
            "text/plain": [
              "1230"
            ]
          },
          "metadata": {},
          "execution_count": 104
        }
      ]
    },
    {
      "cell_type": "code",
      "source": [
        "individual_stocks = np.std(returns_df) * np.sqrt(250)"
      ],
      "metadata": {
        "id": "OodgWjdHRLmk"
      },
      "execution_count": null,
      "outputs": []
    },
    {
      "cell_type": "markdown",
      "source": [
        "## Calculating risk of entire portfolio"
      ],
      "metadata": {
        "id": "gAAN0TnvAbjE"
      }
    },
    {
      "cell_type": "code",
      "source": [
        "# Preparing weights list\n",
        "weights = stocks_df['PROPORTION'].tolist()"
      ],
      "metadata": {
        "id": "6eraPV-7M2I-"
      },
      "execution_count": null,
      "outputs": []
    },
    {
      "cell_type": "code",
      "source": [
        "def getPortRisk(weights):\n",
        "  cov_matrix = returns_df.cov()\n",
        "  variance_portfolio = np.dot(np.transpose(weights), np.dot(cov_matrix, weights))\n",
        "  annual_risk_portfolio = np.sqrt(variance_portfolio) * np.sqrt(250)\n",
        "  return annual_risk_portfolio"
      ],
      "metadata": {
        "id": "c8gs-QrAqfBl"
      },
      "execution_count": null,
      "outputs": []
    },
    {
      "cell_type": "markdown",
      "metadata": {
        "id": "wMNSO9PuNPyt"
      },
      "source": [
        "## Minimizing risk by optimizing weights\n"
      ]
    },
    {
      "cell_type": "code",
      "execution_count": null,
      "metadata": {
        "id": "KVqdH1z7MlIN"
      },
      "outputs": [],
      "source": [
        "bounds = tuple((0,1) for i in range(len(stocks_list)))"
      ]
    },
    {
      "cell_type": "code",
      "execution_count": null,
      "metadata": {
        "id": "rrc-rs6AObD0"
      },
      "outputs": [],
      "source": [
        "cons = ({'type' : 'eq', 'fun' : lambda x : np.sum(x) - 1})"
      ]
    },
    {
      "cell_type": "code",
      "source": [
        "results = minimize(fun=getPortRisk, x0=weights, bounds=bounds, constraints=cons)"
      ],
      "metadata": {
        "id": "CDjsasWCrLtP"
      },
      "execution_count": null,
      "outputs": []
    },
    {
      "cell_type": "markdown",
      "source": [
        "## Optimizing weights"
      ],
      "metadata": {
        "id": "5iR33izcrcYj"
      }
    },
    {
      "cell_type": "code",
      "execution_count": null,
      "metadata": {
        "id": "-PqYsgnxNhnT",
        "colab": {
          "base_uri": "https://localhost:8080/"
        },
        "outputId": "3803a21b-f4d8-4f21-a6cb-97fc37f28c2f"
      },
      "outputs": [
        {
          "output_type": "stream",
          "name": "stdout",
          "text": [
            "Total portfolio amount:  186042.5\n"
          ]
        }
      ],
      "source": [
        "total_portfolio_amount=stocks_df['AMOUNT_INVESTED'].sum()\n",
        "print(\"Total portfolio amount: \",total_portfolio_amount)\n",
        "\n",
        "optimized_weights=pd.DataFrame(results['x'])\n",
        "optimized_weights.index=filtered_data.columns #Indexing based on stocknames\n",
        "optimized_weights.rename(columns={0:\"WEIGHTS\"}, inplace=True) #Renaming\n",
        "\n",
        "#------------- Adding 3 columns - Amount_SHOULD_INVEST, AMOUNT_INVESTED, DIFFERENCE --------------\n",
        "optimized_weights['AMOUNT_SHOULD_INVEST']=round(optimized_weights['WEIGHTS']*total_portfolio_amount,0)\n",
        "optimized_weights['AMOUNT_INVESTED']=stocks_df['AMOUNT_INVESTED'].tolist()\n",
        "optimized_weights['DIFFERENCE']=round(optimized_weights['AMOUNT_SHOULD_INVEST']-optimized_weights['AMOUNT_INVESTED'],2)\n",
        "#-------------------------------------------------------------------------------------------------\n",
        "\n",
        "optimized_weights['WEIGHTS'] = optimized_weights['WEIGHTS'].apply(lambda x:round(x,4)) # rounding weights"
      ]
    },
    {
      "cell_type": "code",
      "source": [
        "# Risk AFTER weight optimization\n",
        "modified_weights=optimized_weights['WEIGHTS'].tolist()\n",
        "getPortRisk(modified_weights)"
      ],
      "metadata": {
        "colab": {
          "base_uri": "https://localhost:8080/"
        },
        "id": "Agf9u-2rN942",
        "outputId": "0ad56189-c07d-473c-e4c7-bbefc34fa127"
      },
      "execution_count": null,
      "outputs": [
        {
          "output_type": "execute_result",
          "data": {
            "text/plain": [
              "0.16240742176673362"
            ]
          },
          "metadata": {},
          "execution_count": 112
        }
      ]
    },
    {
      "cell_type": "code",
      "source": [
        "# Risk BEFORE weight optimization\n",
        "getPortRisk(weights)"
      ],
      "metadata": {
        "colab": {
          "base_uri": "https://localhost:8080/"
        },
        "id": "LsNa0_ayS9GL",
        "outputId": "4aa6d28a-3684-4881-a9ba-06d1460dbf15"
      },
      "execution_count": null,
      "outputs": [
        {
          "output_type": "execute_result",
          "data": {
            "text/plain": [
              "0.22126555826871397"
            ]
          },
          "metadata": {},
          "execution_count": 113
        }
      ]
    },
    {
      "cell_type": "markdown",
      "source": [
        "##Visualization"
      ],
      "metadata": {
        "id": "rFMkYjGrWtMt"
      }
    },
    {
      "cell_type": "code",
      "source": [
        "individual_risk_df = pd.DataFrame(individual_stocks, columns=['Individual_Risk'])\n",
        "graph_df = pd.merge(optimized_weights, individual_risk_df, left_index=True, right_index=True)\n",
        "graph_df.reset_index(inplace=True)"
      ],
      "metadata": {
        "id": "32RQ3MAZWs4l"
      },
      "execution_count": null,
      "outputs": []
    },
    {
      "cell_type": "code",
      "source": [
        "graph_df.rename(columns={'level_0':'TICKER'}, inplace=True)\n",
        "graph_df.drop(['level_1'], axis=1, inplace=True)"
      ],
      "metadata": {
        "id": "SGVYvXF8Wy5V"
      },
      "execution_count": null,
      "outputs": []
    },
    {
      "cell_type": "code",
      "source": [
        "graph_df.sort_values(by='WEIGHTS', ascending=False, inplace=True)\n",
        "graph_df"
      ],
      "metadata": {
        "colab": {
          "base_uri": "https://localhost:8080/",
          "height": 613
        },
        "id": "POcnqBkahByX",
        "outputId": "6c52c3b0-f04c-44ab-e935-1f1b88167e66"
      },
      "execution_count": null,
      "outputs": [
        {
          "output_type": "execute_result",
          "data": {
            "text/plain": [
              "           TICKER  WEIGHTS  AMOUNT_SHOULD_INVEST  AMOUNT_INVESTED  DIFFERENCE  \\\n",
              "8      IPCALAB.NS   0.1842               34267.0              0.0     34267.0   \n",
              "6          ITC.NS   0.1698               31596.0          12663.0     18933.0   \n",
              "0     HDFCBANK.NS   0.1580               29389.0          83127.0    -53738.0   \n",
              "17        NHPC.NS   0.1327               24688.0              0.0     24688.0   \n",
              "15         VBL.NS   0.0962               17893.0              0.0     17893.0   \n",
              "2     CROMPTON.NS   0.0801               14906.0          20062.0     -5156.0   \n",
              "10       DMART.NS   0.0793               14759.0              0.0     14759.0   \n",
              "14     CGPOWER.NS   0.0319                5944.0              0.0      5944.0   \n",
              "13         KEC.NS   0.0248                4607.0              0.0      4607.0   \n",
              "16         KEI.NS   0.0146                2712.0              0.0      2712.0   \n",
              "7   BALKRISIND.NS   0.0143                2660.0              0.0      2660.0   \n",
              "12   AEGISCHEM.NS   0.0097                1805.0              0.0      1805.0   \n",
              "9          UPL.NS   0.0031                 576.0              0.0       576.0   \n",
              "11   AMBUJACEM.NS   0.0013                 240.0              0.0       240.0   \n",
              "4         SBIN.NS   0.0000                   0.0          16023.0    -16023.0   \n",
              "5   DEEPAKFERT.NS   0.0000                   0.0          14797.5    -14797.5   \n",
              "3    ICICIBANK.NS   0.0000                   0.0          19186.0    -19186.0   \n",
              "1     POLYPLEX.NS   0.0000                   0.0          20184.0    -20184.0   \n",
              "\n",
              "    Individual_Risk  \n",
              "8          0.309569  \n",
              "6          0.264618  \n",
              "0          0.268750  \n",
              "17         0.317746  \n",
              "15         0.380224  \n",
              "2          0.322400  \n",
              "10         0.331438  \n",
              "14         0.518309  \n",
              "13         0.377212  \n",
              "16         0.442481  \n",
              "7          0.353082  \n",
              "12         0.470791  \n",
              "9          0.369218  \n",
              "11         0.352586  \n",
              "4          0.349431  \n",
              "5          0.508560  \n",
              "3          0.339410  \n",
              "1          0.416576  "
            ],
            "text/html": [
              "\n",
              "\n",
              "  <div id=\"df-d5b7c691-42e4-4348-a5f3-0d570a61737d\">\n",
              "    <div class=\"colab-df-container\">\n",
              "      <div>\n",
              "<style scoped>\n",
              "    .dataframe tbody tr th:only-of-type {\n",
              "        vertical-align: middle;\n",
              "    }\n",
              "\n",
              "    .dataframe tbody tr th {\n",
              "        vertical-align: top;\n",
              "    }\n",
              "\n",
              "    .dataframe thead th {\n",
              "        text-align: right;\n",
              "    }\n",
              "</style>\n",
              "<table border=\"1\" class=\"dataframe\">\n",
              "  <thead>\n",
              "    <tr style=\"text-align: right;\">\n",
              "      <th></th>\n",
              "      <th>TICKER</th>\n",
              "      <th>WEIGHTS</th>\n",
              "      <th>AMOUNT_SHOULD_INVEST</th>\n",
              "      <th>AMOUNT_INVESTED</th>\n",
              "      <th>DIFFERENCE</th>\n",
              "      <th>Individual_Risk</th>\n",
              "    </tr>\n",
              "  </thead>\n",
              "  <tbody>\n",
              "    <tr>\n",
              "      <th>8</th>\n",
              "      <td>IPCALAB.NS</td>\n",
              "      <td>0.1842</td>\n",
              "      <td>34267.0</td>\n",
              "      <td>0.0</td>\n",
              "      <td>34267.0</td>\n",
              "      <td>0.309569</td>\n",
              "    </tr>\n",
              "    <tr>\n",
              "      <th>6</th>\n",
              "      <td>ITC.NS</td>\n",
              "      <td>0.1698</td>\n",
              "      <td>31596.0</td>\n",
              "      <td>12663.0</td>\n",
              "      <td>18933.0</td>\n",
              "      <td>0.264618</td>\n",
              "    </tr>\n",
              "    <tr>\n",
              "      <th>0</th>\n",
              "      <td>HDFCBANK.NS</td>\n",
              "      <td>0.1580</td>\n",
              "      <td>29389.0</td>\n",
              "      <td>83127.0</td>\n",
              "      <td>-53738.0</td>\n",
              "      <td>0.268750</td>\n",
              "    </tr>\n",
              "    <tr>\n",
              "      <th>17</th>\n",
              "      <td>NHPC.NS</td>\n",
              "      <td>0.1327</td>\n",
              "      <td>24688.0</td>\n",
              "      <td>0.0</td>\n",
              "      <td>24688.0</td>\n",
              "      <td>0.317746</td>\n",
              "    </tr>\n",
              "    <tr>\n",
              "      <th>15</th>\n",
              "      <td>VBL.NS</td>\n",
              "      <td>0.0962</td>\n",
              "      <td>17893.0</td>\n",
              "      <td>0.0</td>\n",
              "      <td>17893.0</td>\n",
              "      <td>0.380224</td>\n",
              "    </tr>\n",
              "    <tr>\n",
              "      <th>2</th>\n",
              "      <td>CROMPTON.NS</td>\n",
              "      <td>0.0801</td>\n",
              "      <td>14906.0</td>\n",
              "      <td>20062.0</td>\n",
              "      <td>-5156.0</td>\n",
              "      <td>0.322400</td>\n",
              "    </tr>\n",
              "    <tr>\n",
              "      <th>10</th>\n",
              "      <td>DMART.NS</td>\n",
              "      <td>0.0793</td>\n",
              "      <td>14759.0</td>\n",
              "      <td>0.0</td>\n",
              "      <td>14759.0</td>\n",
              "      <td>0.331438</td>\n",
              "    </tr>\n",
              "    <tr>\n",
              "      <th>14</th>\n",
              "      <td>CGPOWER.NS</td>\n",
              "      <td>0.0319</td>\n",
              "      <td>5944.0</td>\n",
              "      <td>0.0</td>\n",
              "      <td>5944.0</td>\n",
              "      <td>0.518309</td>\n",
              "    </tr>\n",
              "    <tr>\n",
              "      <th>13</th>\n",
              "      <td>KEC.NS</td>\n",
              "      <td>0.0248</td>\n",
              "      <td>4607.0</td>\n",
              "      <td>0.0</td>\n",
              "      <td>4607.0</td>\n",
              "      <td>0.377212</td>\n",
              "    </tr>\n",
              "    <tr>\n",
              "      <th>16</th>\n",
              "      <td>KEI.NS</td>\n",
              "      <td>0.0146</td>\n",
              "      <td>2712.0</td>\n",
              "      <td>0.0</td>\n",
              "      <td>2712.0</td>\n",
              "      <td>0.442481</td>\n",
              "    </tr>\n",
              "    <tr>\n",
              "      <th>7</th>\n",
              "      <td>BALKRISIND.NS</td>\n",
              "      <td>0.0143</td>\n",
              "      <td>2660.0</td>\n",
              "      <td>0.0</td>\n",
              "      <td>2660.0</td>\n",
              "      <td>0.353082</td>\n",
              "    </tr>\n",
              "    <tr>\n",
              "      <th>12</th>\n",
              "      <td>AEGISCHEM.NS</td>\n",
              "      <td>0.0097</td>\n",
              "      <td>1805.0</td>\n",
              "      <td>0.0</td>\n",
              "      <td>1805.0</td>\n",
              "      <td>0.470791</td>\n",
              "    </tr>\n",
              "    <tr>\n",
              "      <th>9</th>\n",
              "      <td>UPL.NS</td>\n",
              "      <td>0.0031</td>\n",
              "      <td>576.0</td>\n",
              "      <td>0.0</td>\n",
              "      <td>576.0</td>\n",
              "      <td>0.369218</td>\n",
              "    </tr>\n",
              "    <tr>\n",
              "      <th>11</th>\n",
              "      <td>AMBUJACEM.NS</td>\n",
              "      <td>0.0013</td>\n",
              "      <td>240.0</td>\n",
              "      <td>0.0</td>\n",
              "      <td>240.0</td>\n",
              "      <td>0.352586</td>\n",
              "    </tr>\n",
              "    <tr>\n",
              "      <th>4</th>\n",
              "      <td>SBIN.NS</td>\n",
              "      <td>0.0000</td>\n",
              "      <td>0.0</td>\n",
              "      <td>16023.0</td>\n",
              "      <td>-16023.0</td>\n",
              "      <td>0.349431</td>\n",
              "    </tr>\n",
              "    <tr>\n",
              "      <th>5</th>\n",
              "      <td>DEEPAKFERT.NS</td>\n",
              "      <td>0.0000</td>\n",
              "      <td>0.0</td>\n",
              "      <td>14797.5</td>\n",
              "      <td>-14797.5</td>\n",
              "      <td>0.508560</td>\n",
              "    </tr>\n",
              "    <tr>\n",
              "      <th>3</th>\n",
              "      <td>ICICIBANK.NS</td>\n",
              "      <td>0.0000</td>\n",
              "      <td>0.0</td>\n",
              "      <td>19186.0</td>\n",
              "      <td>-19186.0</td>\n",
              "      <td>0.339410</td>\n",
              "    </tr>\n",
              "    <tr>\n",
              "      <th>1</th>\n",
              "      <td>POLYPLEX.NS</td>\n",
              "      <td>0.0000</td>\n",
              "      <td>0.0</td>\n",
              "      <td>20184.0</td>\n",
              "      <td>-20184.0</td>\n",
              "      <td>0.416576</td>\n",
              "    </tr>\n",
              "  </tbody>\n",
              "</table>\n",
              "</div>\n",
              "      <button class=\"colab-df-convert\" onclick=\"convertToInteractive('df-d5b7c691-42e4-4348-a5f3-0d570a61737d')\"\n",
              "              title=\"Convert this dataframe to an interactive table.\"\n",
              "              style=\"display:none;\">\n",
              "\n",
              "  <svg xmlns=\"http://www.w3.org/2000/svg\" height=\"24px\"viewBox=\"0 0 24 24\"\n",
              "       width=\"24px\">\n",
              "    <path d=\"M0 0h24v24H0V0z\" fill=\"none\"/>\n",
              "    <path d=\"M18.56 5.44l.94 2.06.94-2.06 2.06-.94-2.06-.94-.94-2.06-.94 2.06-2.06.94zm-11 1L8.5 8.5l.94-2.06 2.06-.94-2.06-.94L8.5 2.5l-.94 2.06-2.06.94zm10 10l.94 2.06.94-2.06 2.06-.94-2.06-.94-.94-2.06-.94 2.06-2.06.94z\"/><path d=\"M17.41 7.96l-1.37-1.37c-.4-.4-.92-.59-1.43-.59-.52 0-1.04.2-1.43.59L10.3 9.45l-7.72 7.72c-.78.78-.78 2.05 0 2.83L4 21.41c.39.39.9.59 1.41.59.51 0 1.02-.2 1.41-.59l7.78-7.78 2.81-2.81c.8-.78.8-2.07 0-2.86zM5.41 20L4 18.59l7.72-7.72 1.47 1.35L5.41 20z\"/>\n",
              "  </svg>\n",
              "      </button>\n",
              "\n",
              "\n",
              "\n",
              "    <div id=\"df-a62b929a-a292-49b8-813e-f98c0c6ffc5e\">\n",
              "      <button class=\"colab-df-quickchart\" onclick=\"quickchart('df-a62b929a-a292-49b8-813e-f98c0c6ffc5e')\"\n",
              "              title=\"Suggest charts.\"\n",
              "              style=\"display:none;\">\n",
              "\n",
              "<svg xmlns=\"http://www.w3.org/2000/svg\" height=\"24px\"viewBox=\"0 0 24 24\"\n",
              "     width=\"24px\">\n",
              "    <g>\n",
              "        <path d=\"M19 3H5c-1.1 0-2 .9-2 2v14c0 1.1.9 2 2 2h14c1.1 0 2-.9 2-2V5c0-1.1-.9-2-2-2zM9 17H7v-7h2v7zm4 0h-2V7h2v10zm4 0h-2v-4h2v4z\"/>\n",
              "    </g>\n",
              "</svg>\n",
              "      </button>\n",
              "    </div>\n",
              "\n",
              "<style>\n",
              "  .colab-df-quickchart {\n",
              "    background-color: #E8F0FE;\n",
              "    border: none;\n",
              "    border-radius: 50%;\n",
              "    cursor: pointer;\n",
              "    display: none;\n",
              "    fill: #1967D2;\n",
              "    height: 32px;\n",
              "    padding: 0 0 0 0;\n",
              "    width: 32px;\n",
              "  }\n",
              "\n",
              "  .colab-df-quickchart:hover {\n",
              "    background-color: #E2EBFA;\n",
              "    box-shadow: 0px 1px 2px rgba(60, 64, 67, 0.3), 0px 1px 3px 1px rgba(60, 64, 67, 0.15);\n",
              "    fill: #174EA6;\n",
              "  }\n",
              "\n",
              "  [theme=dark] .colab-df-quickchart {\n",
              "    background-color: #3B4455;\n",
              "    fill: #D2E3FC;\n",
              "  }\n",
              "\n",
              "  [theme=dark] .colab-df-quickchart:hover {\n",
              "    background-color: #434B5C;\n",
              "    box-shadow: 0px 1px 3px 1px rgba(0, 0, 0, 0.15);\n",
              "    filter: drop-shadow(0px 1px 2px rgba(0, 0, 0, 0.3));\n",
              "    fill: #FFFFFF;\n",
              "  }\n",
              "</style>\n",
              "\n",
              "    <script>\n",
              "      async function quickchart(key) {\n",
              "        const containerElement = document.querySelector('#' + key);\n",
              "        const charts = await google.colab.kernel.invokeFunction(\n",
              "            'suggestCharts', [key], {});\n",
              "      }\n",
              "    </script>\n",
              "\n",
              "      <script>\n",
              "\n",
              "function displayQuickchartButton(domScope) {\n",
              "  let quickchartButtonEl =\n",
              "    domScope.querySelector('#df-a62b929a-a292-49b8-813e-f98c0c6ffc5e button.colab-df-quickchart');\n",
              "  quickchartButtonEl.style.display =\n",
              "    google.colab.kernel.accessAllowed ? 'block' : 'none';\n",
              "}\n",
              "\n",
              "        displayQuickchartButton(document);\n",
              "      </script>\n",
              "      <style>\n",
              "    .colab-df-container {\n",
              "      display:flex;\n",
              "      flex-wrap:wrap;\n",
              "      gap: 12px;\n",
              "    }\n",
              "\n",
              "    .colab-df-convert {\n",
              "      background-color: #E8F0FE;\n",
              "      border: none;\n",
              "      border-radius: 50%;\n",
              "      cursor: pointer;\n",
              "      display: none;\n",
              "      fill: #1967D2;\n",
              "      height: 32px;\n",
              "      padding: 0 0 0 0;\n",
              "      width: 32px;\n",
              "    }\n",
              "\n",
              "    .colab-df-convert:hover {\n",
              "      background-color: #E2EBFA;\n",
              "      box-shadow: 0px 1px 2px rgba(60, 64, 67, 0.3), 0px 1px 3px 1px rgba(60, 64, 67, 0.15);\n",
              "      fill: #174EA6;\n",
              "    }\n",
              "\n",
              "    [theme=dark] .colab-df-convert {\n",
              "      background-color: #3B4455;\n",
              "      fill: #D2E3FC;\n",
              "    }\n",
              "\n",
              "    [theme=dark] .colab-df-convert:hover {\n",
              "      background-color: #434B5C;\n",
              "      box-shadow: 0px 1px 3px 1px rgba(0, 0, 0, 0.15);\n",
              "      filter: drop-shadow(0px 1px 2px rgba(0, 0, 0, 0.3));\n",
              "      fill: #FFFFFF;\n",
              "    }\n",
              "  </style>\n",
              "\n",
              "      <script>\n",
              "        const buttonEl =\n",
              "          document.querySelector('#df-d5b7c691-42e4-4348-a5f3-0d570a61737d button.colab-df-convert');\n",
              "        buttonEl.style.display =\n",
              "          google.colab.kernel.accessAllowed ? 'block' : 'none';\n",
              "\n",
              "        async function convertToInteractive(key) {\n",
              "          const element = document.querySelector('#df-d5b7c691-42e4-4348-a5f3-0d570a61737d');\n",
              "          const dataTable =\n",
              "            await google.colab.kernel.invokeFunction('convertToInteractive',\n",
              "                                                     [key], {});\n",
              "          if (!dataTable) return;\n",
              "\n",
              "          const docLinkHtml = 'Like what you see? Visit the ' +\n",
              "            '<a target=\"_blank\" href=https://colab.research.google.com/notebooks/data_table.ipynb>data table notebook</a>'\n",
              "            + ' to learn more about interactive tables.';\n",
              "          element.innerHTML = '';\n",
              "          dataTable['output_type'] = 'display_data';\n",
              "          await google.colab.output.renderOutput(dataTable, element);\n",
              "          const docLink = document.createElement('div');\n",
              "          docLink.innerHTML = docLinkHtml;\n",
              "          element.appendChild(docLink);\n",
              "        }\n",
              "      </script>\n",
              "    </div>\n",
              "  </div>\n"
            ]
          },
          "metadata": {},
          "execution_count": 116
        }
      ]
    },
    {
      "cell_type": "code",
      "source": [
        "graph_df.to_csv('Optimize weights.csv')"
      ],
      "metadata": {
        "id": "v3xWJ8dxrK8o"
      },
      "execution_count": null,
      "outputs": []
    },
    {
      "cell_type": "code",
      "source": [
        "fig = plt.scatter(graph_df ,x='Individual_Risk', y='WEIGHTS', text='TICKER')\n",
        "fig.update_traces(textposition='top center')\n",
        "\n",
        "fig.update_layout(\n",
        "    height=600,\n",
        "    width=900,\n",
        "    title_text='Risk and Weight allocated for each stock'\n",
        ")\n",
        "fig.show()"
      ],
      "metadata": {
        "colab": {
          "base_uri": "https://localhost:8080/",
          "height": 617
        },
        "id": "0UGI_1jGYF4l",
        "outputId": "00052459-24bc-4bef-ecdd-deada2622c4a"
      },
      "execution_count": null,
      "outputs": [
        {
          "output_type": "display_data",
          "data": {
            "text/html": [
              "<html>\n",
              "<head><meta charset=\"utf-8\" /></head>\n",
              "<body>\n",
              "    <div>            <script src=\"https://cdnjs.cloudflare.com/ajax/libs/mathjax/2.7.5/MathJax.js?config=TeX-AMS-MML_SVG\"></script><script type=\"text/javascript\">if (window.MathJax && window.MathJax.Hub && window.MathJax.Hub.Config) {window.MathJax.Hub.Config({SVG: {font: \"STIX-Web\"}});}</script>                <script type=\"text/javascript\">window.PlotlyConfig = {MathJaxConfig: 'local'};</script>\n",
              "        <script src=\"https://cdn.plot.ly/plotly-2.18.2.min.js\"></script>                <div id=\"356fcb45-6028-4aff-b5ea-01eaa3e24273\" class=\"plotly-graph-div\" style=\"height:600px; width:900px;\"></div>            <script type=\"text/javascript\">                                    window.PLOTLYENV=window.PLOTLYENV || {};                                    if (document.getElementById(\"356fcb45-6028-4aff-b5ea-01eaa3e24273\")) {                    Plotly.newPlot(                        \"356fcb45-6028-4aff-b5ea-01eaa3e24273\",                        [{\"hovertemplate\":\"Individual_Risk=%{x}<br>WEIGHTS=%{y}<br>TICKER=%{text}<extra></extra>\",\"legendgroup\":\"\",\"marker\":{\"color\":\"#636efa\",\"symbol\":\"circle\"},\"mode\":\"markers+text\",\"name\":\"\",\"orientation\":\"v\",\"showlegend\":false,\"text\":[\"IPCALAB.NS\",\"ITC.NS\",\"HDFCBANK.NS\",\"NHPC.NS\",\"VBL.NS\",\"CROMPTON.NS\",\"DMART.NS\",\"CGPOWER.NS\",\"KEC.NS\",\"KEI.NS\",\"BALKRISIND.NS\",\"AEGISCHEM.NS\",\"UPL.NS\",\"AMBUJACEM.NS\",\"SBIN.NS\",\"DEEPAKFERT.NS\",\"ICICIBANK.NS\",\"POLYPLEX.NS\"],\"x\":[0.30956883757428116,0.2646182511323934,0.2687499086366672,0.3177459129737851,0.3802239803782305,0.32239962483289186,0.3314384398822697,0.5183089834688063,0.37721239604327994,0.44248067703466243,0.35308204084865924,0.47079055799171515,0.369217554263407,0.3525864778427725,0.3494306214249403,0.5085600497505942,0.33941017521306516,0.41657557632467934],\"xaxis\":\"x\",\"y\":[0.1842,0.1698,0.158,0.1327,0.0962,0.0801,0.0793,0.0319,0.0248,0.0146,0.0143,0.0097,0.0031,0.0013,0.0,0.0,0.0,0.0],\"yaxis\":\"y\",\"type\":\"scatter\",\"textposition\":\"top center\"}],                        {\"template\":{\"data\":{\"histogram2dcontour\":[{\"type\":\"histogram2dcontour\",\"colorbar\":{\"outlinewidth\":0,\"ticks\":\"\"},\"colorscale\":[[0.0,\"#0d0887\"],[0.1111111111111111,\"#46039f\"],[0.2222222222222222,\"#7201a8\"],[0.3333333333333333,\"#9c179e\"],[0.4444444444444444,\"#bd3786\"],[0.5555555555555556,\"#d8576b\"],[0.6666666666666666,\"#ed7953\"],[0.7777777777777778,\"#fb9f3a\"],[0.8888888888888888,\"#fdca26\"],[1.0,\"#f0f921\"]]}],\"choropleth\":[{\"type\":\"choropleth\",\"colorbar\":{\"outlinewidth\":0,\"ticks\":\"\"}}],\"histogram2d\":[{\"type\":\"histogram2d\",\"colorbar\":{\"outlinewidth\":0,\"ticks\":\"\"},\"colorscale\":[[0.0,\"#0d0887\"],[0.1111111111111111,\"#46039f\"],[0.2222222222222222,\"#7201a8\"],[0.3333333333333333,\"#9c179e\"],[0.4444444444444444,\"#bd3786\"],[0.5555555555555556,\"#d8576b\"],[0.6666666666666666,\"#ed7953\"],[0.7777777777777778,\"#fb9f3a\"],[0.8888888888888888,\"#fdca26\"],[1.0,\"#f0f921\"]]}],\"heatmap\":[{\"type\":\"heatmap\",\"colorbar\":{\"outlinewidth\":0,\"ticks\":\"\"},\"colorscale\":[[0.0,\"#0d0887\"],[0.1111111111111111,\"#46039f\"],[0.2222222222222222,\"#7201a8\"],[0.3333333333333333,\"#9c179e\"],[0.4444444444444444,\"#bd3786\"],[0.5555555555555556,\"#d8576b\"],[0.6666666666666666,\"#ed7953\"],[0.7777777777777778,\"#fb9f3a\"],[0.8888888888888888,\"#fdca26\"],[1.0,\"#f0f921\"]]}],\"heatmapgl\":[{\"type\":\"heatmapgl\",\"colorbar\":{\"outlinewidth\":0,\"ticks\":\"\"},\"colorscale\":[[0.0,\"#0d0887\"],[0.1111111111111111,\"#46039f\"],[0.2222222222222222,\"#7201a8\"],[0.3333333333333333,\"#9c179e\"],[0.4444444444444444,\"#bd3786\"],[0.5555555555555556,\"#d8576b\"],[0.6666666666666666,\"#ed7953\"],[0.7777777777777778,\"#fb9f3a\"],[0.8888888888888888,\"#fdca26\"],[1.0,\"#f0f921\"]]}],\"contourcarpet\":[{\"type\":\"contourcarpet\",\"colorbar\":{\"outlinewidth\":0,\"ticks\":\"\"}}],\"contour\":[{\"type\":\"contour\",\"colorbar\":{\"outlinewidth\":0,\"ticks\":\"\"},\"colorscale\":[[0.0,\"#0d0887\"],[0.1111111111111111,\"#46039f\"],[0.2222222222222222,\"#7201a8\"],[0.3333333333333333,\"#9c179e\"],[0.4444444444444444,\"#bd3786\"],[0.5555555555555556,\"#d8576b\"],[0.6666666666666666,\"#ed7953\"],[0.7777777777777778,\"#fb9f3a\"],[0.8888888888888888,\"#fdca26\"],[1.0,\"#f0f921\"]]}],\"surface\":[{\"type\":\"surface\",\"colorbar\":{\"outlinewidth\":0,\"ticks\":\"\"},\"colorscale\":[[0.0,\"#0d0887\"],[0.1111111111111111,\"#46039f\"],[0.2222222222222222,\"#7201a8\"],[0.3333333333333333,\"#9c179e\"],[0.4444444444444444,\"#bd3786\"],[0.5555555555555556,\"#d8576b\"],[0.6666666666666666,\"#ed7953\"],[0.7777777777777778,\"#fb9f3a\"],[0.8888888888888888,\"#fdca26\"],[1.0,\"#f0f921\"]]}],\"mesh3d\":[{\"type\":\"mesh3d\",\"colorbar\":{\"outlinewidth\":0,\"ticks\":\"\"}}],\"scatter\":[{\"fillpattern\":{\"fillmode\":\"overlay\",\"size\":10,\"solidity\":0.2},\"type\":\"scatter\"}],\"parcoords\":[{\"type\":\"parcoords\",\"line\":{\"colorbar\":{\"outlinewidth\":0,\"ticks\":\"\"}}}],\"scatterpolargl\":[{\"type\":\"scatterpolargl\",\"marker\":{\"colorbar\":{\"outlinewidth\":0,\"ticks\":\"\"}}}],\"bar\":[{\"error_x\":{\"color\":\"#2a3f5f\"},\"error_y\":{\"color\":\"#2a3f5f\"},\"marker\":{\"line\":{\"color\":\"#E5ECF6\",\"width\":0.5},\"pattern\":{\"fillmode\":\"overlay\",\"size\":10,\"solidity\":0.2}},\"type\":\"bar\"}],\"scattergeo\":[{\"type\":\"scattergeo\",\"marker\":{\"colorbar\":{\"outlinewidth\":0,\"ticks\":\"\"}}}],\"scatterpolar\":[{\"type\":\"scatterpolar\",\"marker\":{\"colorbar\":{\"outlinewidth\":0,\"ticks\":\"\"}}}],\"histogram\":[{\"marker\":{\"pattern\":{\"fillmode\":\"overlay\",\"size\":10,\"solidity\":0.2}},\"type\":\"histogram\"}],\"scattergl\":[{\"type\":\"scattergl\",\"marker\":{\"colorbar\":{\"outlinewidth\":0,\"ticks\":\"\"}}}],\"scatter3d\":[{\"type\":\"scatter3d\",\"line\":{\"colorbar\":{\"outlinewidth\":0,\"ticks\":\"\"}},\"marker\":{\"colorbar\":{\"outlinewidth\":0,\"ticks\":\"\"}}}],\"scattermapbox\":[{\"type\":\"scattermapbox\",\"marker\":{\"colorbar\":{\"outlinewidth\":0,\"ticks\":\"\"}}}],\"scatterternary\":[{\"type\":\"scatterternary\",\"marker\":{\"colorbar\":{\"outlinewidth\":0,\"ticks\":\"\"}}}],\"scattercarpet\":[{\"type\":\"scattercarpet\",\"marker\":{\"colorbar\":{\"outlinewidth\":0,\"ticks\":\"\"}}}],\"carpet\":[{\"aaxis\":{\"endlinecolor\":\"#2a3f5f\",\"gridcolor\":\"white\",\"linecolor\":\"white\",\"minorgridcolor\":\"white\",\"startlinecolor\":\"#2a3f5f\"},\"baxis\":{\"endlinecolor\":\"#2a3f5f\",\"gridcolor\":\"white\",\"linecolor\":\"white\",\"minorgridcolor\":\"white\",\"startlinecolor\":\"#2a3f5f\"},\"type\":\"carpet\"}],\"table\":[{\"cells\":{\"fill\":{\"color\":\"#EBF0F8\"},\"line\":{\"color\":\"white\"}},\"header\":{\"fill\":{\"color\":\"#C8D4E3\"},\"line\":{\"color\":\"white\"}},\"type\":\"table\"}],\"barpolar\":[{\"marker\":{\"line\":{\"color\":\"#E5ECF6\",\"width\":0.5},\"pattern\":{\"fillmode\":\"overlay\",\"size\":10,\"solidity\":0.2}},\"type\":\"barpolar\"}],\"pie\":[{\"automargin\":true,\"type\":\"pie\"}]},\"layout\":{\"autotypenumbers\":\"strict\",\"colorway\":[\"#636efa\",\"#EF553B\",\"#00cc96\",\"#ab63fa\",\"#FFA15A\",\"#19d3f3\",\"#FF6692\",\"#B6E880\",\"#FF97FF\",\"#FECB52\"],\"font\":{\"color\":\"#2a3f5f\"},\"hovermode\":\"closest\",\"hoverlabel\":{\"align\":\"left\"},\"paper_bgcolor\":\"white\",\"plot_bgcolor\":\"#E5ECF6\",\"polar\":{\"bgcolor\":\"#E5ECF6\",\"angularaxis\":{\"gridcolor\":\"white\",\"linecolor\":\"white\",\"ticks\":\"\"},\"radialaxis\":{\"gridcolor\":\"white\",\"linecolor\":\"white\",\"ticks\":\"\"}},\"ternary\":{\"bgcolor\":\"#E5ECF6\",\"aaxis\":{\"gridcolor\":\"white\",\"linecolor\":\"white\",\"ticks\":\"\"},\"baxis\":{\"gridcolor\":\"white\",\"linecolor\":\"white\",\"ticks\":\"\"},\"caxis\":{\"gridcolor\":\"white\",\"linecolor\":\"white\",\"ticks\":\"\"}},\"coloraxis\":{\"colorbar\":{\"outlinewidth\":0,\"ticks\":\"\"}},\"colorscale\":{\"sequential\":[[0.0,\"#0d0887\"],[0.1111111111111111,\"#46039f\"],[0.2222222222222222,\"#7201a8\"],[0.3333333333333333,\"#9c179e\"],[0.4444444444444444,\"#bd3786\"],[0.5555555555555556,\"#d8576b\"],[0.6666666666666666,\"#ed7953\"],[0.7777777777777778,\"#fb9f3a\"],[0.8888888888888888,\"#fdca26\"],[1.0,\"#f0f921\"]],\"sequentialminus\":[[0.0,\"#0d0887\"],[0.1111111111111111,\"#46039f\"],[0.2222222222222222,\"#7201a8\"],[0.3333333333333333,\"#9c179e\"],[0.4444444444444444,\"#bd3786\"],[0.5555555555555556,\"#d8576b\"],[0.6666666666666666,\"#ed7953\"],[0.7777777777777778,\"#fb9f3a\"],[0.8888888888888888,\"#fdca26\"],[1.0,\"#f0f921\"]],\"diverging\":[[0,\"#8e0152\"],[0.1,\"#c51b7d\"],[0.2,\"#de77ae\"],[0.3,\"#f1b6da\"],[0.4,\"#fde0ef\"],[0.5,\"#f7f7f7\"],[0.6,\"#e6f5d0\"],[0.7,\"#b8e186\"],[0.8,\"#7fbc41\"],[0.9,\"#4d9221\"],[1,\"#276419\"]]},\"xaxis\":{\"gridcolor\":\"white\",\"linecolor\":\"white\",\"ticks\":\"\",\"title\":{\"standoff\":15},\"zerolinecolor\":\"white\",\"automargin\":true,\"zerolinewidth\":2},\"yaxis\":{\"gridcolor\":\"white\",\"linecolor\":\"white\",\"ticks\":\"\",\"title\":{\"standoff\":15},\"zerolinecolor\":\"white\",\"automargin\":true,\"zerolinewidth\":2},\"scene\":{\"xaxis\":{\"backgroundcolor\":\"#E5ECF6\",\"gridcolor\":\"white\",\"linecolor\":\"white\",\"showbackground\":true,\"ticks\":\"\",\"zerolinecolor\":\"white\",\"gridwidth\":2},\"yaxis\":{\"backgroundcolor\":\"#E5ECF6\",\"gridcolor\":\"white\",\"linecolor\":\"white\",\"showbackground\":true,\"ticks\":\"\",\"zerolinecolor\":\"white\",\"gridwidth\":2},\"zaxis\":{\"backgroundcolor\":\"#E5ECF6\",\"gridcolor\":\"white\",\"linecolor\":\"white\",\"showbackground\":true,\"ticks\":\"\",\"zerolinecolor\":\"white\",\"gridwidth\":2}},\"shapedefaults\":{\"line\":{\"color\":\"#2a3f5f\"}},\"annotationdefaults\":{\"arrowcolor\":\"#2a3f5f\",\"arrowhead\":0,\"arrowwidth\":1},\"geo\":{\"bgcolor\":\"white\",\"landcolor\":\"#E5ECF6\",\"subunitcolor\":\"white\",\"showland\":true,\"showlakes\":true,\"lakecolor\":\"white\"},\"title\":{\"x\":0.05},\"mapbox\":{\"style\":\"light\"}}},\"xaxis\":{\"anchor\":\"y\",\"domain\":[0.0,1.0],\"title\":{\"text\":\"Individual_Risk\"}},\"yaxis\":{\"anchor\":\"x\",\"domain\":[0.0,1.0],\"title\":{\"text\":\"WEIGHTS\"}},\"legend\":{\"tracegroupgap\":0},\"margin\":{\"t\":60},\"title\":{\"text\":\"Risk and Weight allocated for each stock\"},\"height\":600,\"width\":900},                        {\"responsive\": true}                    ).then(function(){\n",
              "                            \n",
              "var gd = document.getElementById('356fcb45-6028-4aff-b5ea-01eaa3e24273');\n",
              "var x = new MutationObserver(function (mutations, observer) {{\n",
              "        var display = window.getComputedStyle(gd).display;\n",
              "        if (!display || display === 'none') {{\n",
              "            console.log([gd, 'removed!']);\n",
              "            Plotly.purge(gd);\n",
              "            observer.disconnect();\n",
              "        }}\n",
              "}});\n",
              "\n",
              "// Listen for the removal of the full notebook cells\n",
              "var notebookContainer = gd.closest('#notebook-container');\n",
              "if (notebookContainer) {{\n",
              "    x.observe(notebookContainer, {childList: true});\n",
              "}}\n",
              "\n",
              "// Listen for the clearing of the current output cell\n",
              "var outputEl = gd.closest('.output');\n",
              "if (outputEl) {{\n",
              "    x.observe(outputEl, {childList: true});\n",
              "}}\n",
              "\n",
              "                        })                };                            </script>        </div>\n",
              "</body>\n",
              "</html>"
            ]
          },
          "metadata": {}
        }
      ]
    },
    {
      "cell_type": "code",
      "source": [],
      "metadata": {
        "id": "1WCfmRc4cGed"
      },
      "execution_count": null,
      "outputs": []
    }
  ],
  "metadata": {
    "colab": {
      "provenance": []
    },
    "kernelspec": {
      "display_name": "Python 3",
      "name": "python3"
    },
    "language_info": {
      "name": "python"
    }
  },
  "nbformat": 4,
  "nbformat_minor": 0
}